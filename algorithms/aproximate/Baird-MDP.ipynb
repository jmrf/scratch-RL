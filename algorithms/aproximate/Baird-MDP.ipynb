{
 "cells": [
  {
   "cell_type": "markdown",
   "id": "c256318e-c742-4486-b15e-d4623bc64baa",
   "metadata": {},
   "source": [
    "# Off-policy divergence: Baird's MDP\n",
    "\n",
    "This notebook implements an empirical proof of `off-policy` divergence using [Baird's MDP]()\n",
    "\n",
    "> See `exercise 11.3` in [Sutton & Barto's RL Introduction book](http://incompleteideas.net/book/RLbook2020.pdf)\n",
    "\n",
    "<img src=\"https://lcalem.github.io/imgs/sutton/bairds.png\" \n",
    "     alt=\"Sutton &amp; Barto summary chap 11 - Off-policy methods for approximation ...\"\n",
    "     width=\"650\"\n",
    "/>\n",
    "\n",
    "More generally, off-policy divergence occurs when we have instances of the [Deadly Triad](https://arxiv.org/pdf/1812.02648v1.pdf):\n",
    "\n",
    " - **Function approximation**: (e.g., linear function approximation or ANNs)\n",
    " - **Bootstrapping**: Update targets that include existing estimates (as in dynamic programming or TD methods) rather than relying exclusively on actual rewards and complete returns (as in MC methods)\n",
    " - **Off-policy training**: Training on a distribution of transitions other than that produced by the target policy"
   ]
  },
  {
   "cell_type": "markdown",
   "id": "0a0276bb-2743-4e4f-9b51-bf84baa46fe1",
   "metadata": {},
   "source": [
    "## Parameters"
   ]
  },
  {
   "cell_type": "code",
   "execution_count": 13,
   "id": "a7d6036c-c429-4fe1-9bf3-1725e61b62c5",
   "metadata": {},
   "outputs": [],
   "source": [
    "n_states = 7\n",
    "n_actions = 2\n",
    "disccount_factor = 0.99"
   ]
  },
  {
   "cell_type": "code",
   "execution_count": 14,
   "id": "c8acb5d7-ff8c-4fab-b2dc-14acba380521",
   "metadata": {},
   "outputs": [],
   "source": [
    "import numpy as np\n",
    "\n",
    "\n",
    "class BairdMDP:\n",
    "    def __init__(self, n_states: int, n_actions: int):\n",
    "        self.n_states = n_states\n",
    "        self.n_actions = n_actions  # dashed & solid\n",
    "        self.state = None\n",
    "\n",
    "    def _random_state(self, n):\n",
    "        # uniform probability over 0..n states\n",
    "        return np.random.choice(np.arange(n), p=np.ones(n) * 1 / n)\n",
    "\n",
    "    def reset(self):\n",
    "        self.state = self._random_state(self.n_states)\n",
    "        return self.state, {}  # state, info\n",
    "\n",
    "    def step(self, action: int):\n",
    "        if action < 0 or action > self.n_actions - 1:\n",
    "            raise ValueError(f\"Invalid action {action}. Not between 0 and 1\")\n",
    "\n",
    "        if action == 0:\n",
    "            self.state = self._random_state(self.n_states - 1)\n",
    "        elif action == 1:\n",
    "            self.state = self.n_states - 1\n",
    "\n",
    "        # next_state, reward, terminated, truncated, info\n",
    "        return self.state, 0, False, False, {}"
   ]
  },
  {
   "cell_type": "markdown",
   "id": "fe578730-2ec7-4c9e-b873-dc83686c7621",
   "metadata": {},
   "source": [
    "## Estimator"
   ]
  },
  {
   "cell_type": "code",
   "execution_count": 16,
   "id": "55a6e5c3-e274-404d-a6e5-369afba4fcce",
   "metadata": {},
   "outputs": [],
   "source": [
    "class Estimator:\n",
    "    def __init__(self, n_states: int):\n",
    "        self.n = n_states\n",
    "        self.weights = np.zeros(self.n + 1)\n",
    "        self.features = np.eye(self.n + 1)\n",
    "        self.features[: self.n, : self.n] *= 2\n",
    "\n",
    "    def __call__(self, s: int):\n",
    "        if s < 0 or s > self.n - 1:\n",
    "            raise ValueError(\n",
    "                f\"State '{s}' out of range. Must be within 0 and {self.n-1}\"\n",
    "            )\n",
    "        return np.dot(self.weights, self.features)[s]"
   ]
  },
  {
   "cell_type": "code",
   "execution_count": 17,
   "id": "bde93f2d-b87c-41bb-87ec-f9436d6287bf",
   "metadata": {},
   "outputs": [],
   "source": [
    "env = BairdMDP(n_states, n_actions)\n",
    "V = Estimator(n_states)\n",
    "\n",
    "# s, _ = env.reset()\n",
    "# print(s)\n",
    "\n",
    "# for i in range(10):\n",
    "#     a = np.random.choice([0, 1])\n",
    "#     next_s, _, _, _, _ = env.step(a)\n",
    "#     print(f\"S:{s} x A:{a} -> S':{next_s}\")\n",
    "#     s = next_s"
   ]
  }
 ],
 "metadata": {
  "kernelspec": {
   "display_name": "Python 3 (ipykernel)",
   "language": "python",
   "name": "python3"
  },
  "language_info": {
   "codemirror_mode": {
    "name": "ipython",
    "version": 3
   },
   "file_extension": ".py",
   "mimetype": "text/x-python",
   "name": "python",
   "nbconvert_exporter": "python",
   "pygments_lexer": "ipython3",
   "version": "3.10.8"
  }
 },
 "nbformat": 4,
 "nbformat_minor": 5
}
